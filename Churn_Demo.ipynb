{
  "nbformat": 4,
  "nbformat_minor": 0,
  "metadata": {
    "colab": {
      "provenance": [],
      "include_colab_link": true
    },
    "kernelspec": {
      "name": "python3",
      "display_name": "Python 3"
    },
    "language_info": {
      "name": "python"
    }
  },
  "cells": [
    {
      "cell_type": "markdown",
      "metadata": {
        "id": "view-in-github",
        "colab_type": "text"
      },
      "source": [
        "<a href=\"https://colab.research.google.com/github/PrakashBaire/Churn_Prediction_ANN/blob/main/Churn_Demo.ipynb\" target=\"_parent\"><img src=\"https://colab.research.google.com/assets/colab-badge.svg\" alt=\"Open In Colab\"/></a>"
      ]
    },
    {
      "cell_type": "code",
      "source": [
        "import tensorflow as tf"
      ],
      "metadata": {
        "id": "D2IliGyI62B0"
      },
      "execution_count": null,
      "outputs": []
    },
    {
      "cell_type": "code",
      "source": [
        "print(tf.__version__)"
      ],
      "metadata": {
        "colab": {
          "base_uri": "https://localhost:8080/"
        },
        "id": "4_fyxUHb7GuH",
        "outputId": "f5c8b0af-0f19-42fa-8077-56c28e33d2db"
      },
      "execution_count": null,
      "outputs": [
        {
          "output_type": "stream",
          "name": "stdout",
          "text": [
            "2.12.0\n"
          ]
        }
      ]
    },
    {
      "cell_type": "code",
      "source": [
        "# Importing the libraries\n",
        "import numpy as np\n",
        "import matplotlib.pyplot as plt\n",
        "import pandas as pd"
      ],
      "metadata": {
        "id": "LLvV2K-o7KAp"
      },
      "execution_count": null,
      "outputs": []
    },
    {
      "cell_type": "code",
      "source": [
        "# Importing the dataset\n",
        "dataset = pd.read_csv('Churn_Modelling.csv')\n",
        "X = dataset.iloc[:, 3:-1].values\n",
        "y = dataset.iloc[:, -1].values"
      ],
      "metadata": {
        "id": "gHRHobkK7Sxn"
      },
      "execution_count": null,
      "outputs": []
    },
    {
      "cell_type": "code",
      "source": [
        "print(X)"
      ],
      "metadata": {
        "colab": {
          "base_uri": "https://localhost:8080/"
        },
        "id": "rUsIYN4f8UrT",
        "outputId": "fd584109-c873-4891-dcc9-e313663c19ac"
      },
      "execution_count": null,
      "outputs": [
        {
          "output_type": "stream",
          "name": "stdout",
          "text": [
            "[[619 'France' 'Female' ... 1 1 101348.88]\n",
            " [608 'Spain' 'Female' ... 0 1 112542.58]\n",
            " [502 'France' 'Female' ... 1 0 113931.57]\n",
            " ...\n",
            " [709 'France' 'Female' ... 0 1 42085.58]\n",
            " [772 'Germany' 'Male' ... 1 0 92888.52]\n",
            " [792 'France' 'Female' ... 1 0 38190.78]]\n"
          ]
        }
      ]
    },
    {
      "cell_type": "code",
      "source": [
        "print(y)"
      ],
      "metadata": {
        "colab": {
          "base_uri": "https://localhost:8080/"
        },
        "id": "4aZy73HO8W18",
        "outputId": "0d29a39d-e079-4237-f743-7725fc43ba2d"
      },
      "execution_count": null,
      "outputs": [
        {
          "output_type": "stream",
          "name": "stdout",
          "text": [
            "[1 0 1 ... 1 1 0]\n"
          ]
        }
      ]
    },
    {
      "cell_type": "code",
      "source": [
        "#Feature Engineering\n",
        "#from sklearn.feature_selection import StandardScaler\n",
        "#sc = StandardScaler()\n",
        "from sklearn.compose import ColumnTransformer\n",
        "from sklearn.preprocessing import OneHotEncoder\n",
        "ct = ColumnTransformer(transformers=[('encoder', OneHotEncoder(), [1, 2])], remainder='passthrough')\n",
        "X = np.array(ct.fit_transform(X))"
      ],
      "metadata": {
        "id": "19o68BVM8wFz"
      },
      "execution_count": null,
      "outputs": []
    },
    {
      "cell_type": "code",
      "source": [
        "print(X)"
      ],
      "metadata": {
        "colab": {
          "base_uri": "https://localhost:8080/"
        },
        "id": "BNU88QH1EDTe",
        "outputId": "736fb12a-dcbc-4e79-9d54-dd82b0ea93a9"
      },
      "execution_count": null,
      "outputs": [
        {
          "output_type": "stream",
          "name": "stdout",
          "text": [
            "[[1.0 0.0 0.0 ... 1 1 101348.88]\n",
            " [0.0 0.0 1.0 ... 0 1 112542.58]\n",
            " [1.0 0.0 0.0 ... 1 0 113931.57]\n",
            " ...\n",
            " [1.0 0.0 0.0 ... 0 1 42085.58]\n",
            " [0.0 1.0 0.0 ... 1 0 92888.52]\n",
            " [1.0 0.0 0.0 ... 1 0 38190.78]]\n"
          ]
        }
      ]
    },
    {
      "cell_type": "code",
      "source": [
        "#Create dummy variables\n",
        "#geography=pd.get_dummies(X[\"Geography\"],drop_first=True)\n",
        "#gender=pd.get_dummies(X['Gender'],drop_first=True)"
      ],
      "metadata": {
        "id": "T2yS0VL67Ufn"
      },
      "execution_count": null,
      "outputs": []
    },
    {
      "cell_type": "code",
      "source": [
        "## Concatenate the Data Frames\n",
        "\n",
        "#X=pd.concat([X,geography,gender],axis=1)\n",
        "\n",
        "## Drop Unnecessary columns\n",
        "#X=X.drop(['Geography','Gender'],axis=1)\n",
        "\n",
        "# Splitting the dataset into the Training set and Test set\n",
        "from sklearn.model_selection import train_test_split\n",
        "X_train, X_test, y_train, y_test = train_test_split(X, y, test_size = 0.2, random_state = 0)\n"
      ],
      "metadata": {
        "id": "Co2rxaFR7Wgo"
      },
      "execution_count": null,
      "outputs": []
    },
    {
      "cell_type": "code",
      "source": [
        "# Feature Scaling\n",
        "from sklearn.preprocessing import StandardScaler\n",
        "sc = StandardScaler()\n",
        "X_train = sc.fit_transform(X_train)\n",
        "X_test = sc.transform(X_test)\n"
      ],
      "metadata": {
        "id": "GNZrZXy37ZLs"
      },
      "execution_count": null,
      "outputs": []
    },
    {
      "cell_type": "code",
      "source": [
        "# Part 2 - Now let's make the ANN!"
      ],
      "metadata": {
        "id": "uwN3bgie7bvT"
      },
      "execution_count": null,
      "outputs": []
    },
    {
      "cell_type": "code",
      "source": [
        "from tensorflow.keras.models import Sequential\n",
        "from tensorflow.keras.layers import Dense\n",
        "from tensorflow.keras.layers import LeakyReLU,PReLU,ELU\n",
        "from tensorflow.keras.layers import Dropout\n"
      ],
      "metadata": {
        "id": "rL_a7vWu7dj1"
      },
      "execution_count": null,
      "outputs": []
    },
    {
      "cell_type": "code",
      "source": [
        "# Initialising the ANN\n",
        "classifier = Sequential()"
      ],
      "metadata": {
        "id": "VDJwvrbZ7kj4"
      },
      "execution_count": null,
      "outputs": []
    },
    {
      "cell_type": "code",
      "source": [
        "# Adding the input layer and the first hidden layer\n",
        "classifier.add(Dense(units=11,activation='relu'))"
      ],
      "metadata": {
        "id": "RSZQrU-g7z4N"
      },
      "execution_count": null,
      "outputs": []
    },
    {
      "cell_type": "code",
      "source": [
        "# Adding the input layer and the first hidden layer\n",
        "classifier.add(Dense(units=6,activation='relu'))"
      ],
      "metadata": {
        "id": "byszZMvw8RcQ"
      },
      "execution_count": null,
      "outputs": []
    },
    {
      "cell_type": "code",
      "source": [
        "# Adding the input layer and the first hidden layer\n",
        "classifier.add(Dense(units=1,activation='relu'))"
      ],
      "metadata": {
        "id": "Mk2slmAX8XUI"
      },
      "execution_count": null,
      "outputs": []
    },
    {
      "cell_type": "code",
      "source": [
        "classifier.compile(optimizer='adam',loss='binary_crossentropy',metrics=['accuracy'])"
      ],
      "metadata": {
        "id": "F2udThHo8cFt"
      },
      "execution_count": null,
      "outputs": []
    },
    {
      "cell_type": "code",
      "source": [
        "model_history=classifier.fit(X_train,y_train,validation_split=0.33,batch_size=10,epochs=50)"
      ],
      "metadata": {
        "colab": {
          "base_uri": "https://localhost:8080/"
        },
        "id": "3qairJAs8fIc",
        "outputId": "7ad08b20-b2c0-413d-afe9-42bf7a7fba29"
      },
      "execution_count": null,
      "outputs": [
        {
          "output_type": "stream",
          "name": "stdout",
          "text": [
            "Epoch 1/50\n",
            "536/536 [==============================] - 3s 5ms/step - loss: 3.0789 - accuracy: 0.7962 - val_loss: 2.8470 - val_accuracy: 0.7955\n",
            "Epoch 2/50\n",
            "536/536 [==============================] - 2s 4ms/step - loss: 1.3133 - accuracy: 0.7800 - val_loss: 0.6952 - val_accuracy: 0.7796\n",
            "Epoch 3/50\n",
            "536/536 [==============================] - 2s 3ms/step - loss: 0.6310 - accuracy: 0.7929 - val_loss: 0.5314 - val_accuracy: 0.7986\n",
            "Epoch 4/50\n",
            "536/536 [==============================] - 2s 3ms/step - loss: 0.5113 - accuracy: 0.8046 - val_loss: 0.4791 - val_accuracy: 0.7963\n",
            "Epoch 5/50\n",
            "536/536 [==============================] - 2s 3ms/step - loss: 0.4561 - accuracy: 0.8147 - val_loss: 0.4803 - val_accuracy: 0.8054\n",
            "Epoch 6/50\n",
            "536/536 [==============================] - 2s 3ms/step - loss: 0.4472 - accuracy: 0.8106 - val_loss: 0.4783 - val_accuracy: 0.7978\n",
            "Epoch 7/50\n",
            "536/536 [==============================] - 2s 3ms/step - loss: 0.4290 - accuracy: 0.8155 - val_loss: 0.4539 - val_accuracy: 0.8103\n",
            "Epoch 8/50\n",
            "536/536 [==============================] - 2s 4ms/step - loss: 0.4251 - accuracy: 0.8209 - val_loss: 0.4452 - val_accuracy: 0.8179\n",
            "Epoch 9/50\n",
            "536/536 [==============================] - 2s 4ms/step - loss: 0.4182 - accuracy: 0.8272 - val_loss: 0.4494 - val_accuracy: 0.8201\n",
            "Epoch 10/50\n",
            "536/536 [==============================] - 2s 3ms/step - loss: 0.4151 - accuracy: 0.8289 - val_loss: 0.4590 - val_accuracy: 0.8217\n",
            "Epoch 11/50\n",
            "536/536 [==============================] - 2s 3ms/step - loss: 0.4178 - accuracy: 0.8343 - val_loss: 0.4423 - val_accuracy: 0.8311\n",
            "Epoch 12/50\n",
            "536/536 [==============================] - 2s 3ms/step - loss: 0.4044 - accuracy: 0.8362 - val_loss: 0.4449 - val_accuracy: 0.8364\n",
            "Epoch 13/50\n",
            "536/536 [==============================] - 2s 3ms/step - loss: 0.3934 - accuracy: 0.8393 - val_loss: 0.4435 - val_accuracy: 0.8376\n",
            "Epoch 14/50\n",
            "536/536 [==============================] - 2s 3ms/step - loss: 0.3892 - accuracy: 0.8447 - val_loss: 0.4311 - val_accuracy: 0.8410\n",
            "Epoch 15/50\n",
            "536/536 [==============================] - 2s 5ms/step - loss: 0.3881 - accuracy: 0.8475 - val_loss: 0.4315 - val_accuracy: 0.8470\n",
            "Epoch 16/50\n",
            "536/536 [==============================] - 2s 4ms/step - loss: 0.3839 - accuracy: 0.8515 - val_loss: 0.4409 - val_accuracy: 0.8493\n",
            "Epoch 17/50\n",
            "536/536 [==============================] - 2s 3ms/step - loss: 0.3893 - accuracy: 0.8535 - val_loss: 0.4364 - val_accuracy: 0.8516\n",
            "Epoch 18/50\n",
            "536/536 [==============================] - 2s 3ms/step - loss: 0.3898 - accuracy: 0.8550 - val_loss: 0.4406 - val_accuracy: 0.8535\n",
            "Epoch 19/50\n",
            "536/536 [==============================] - 2s 3ms/step - loss: 0.3821 - accuracy: 0.8561 - val_loss: 0.4252 - val_accuracy: 0.8512\n",
            "Epoch 20/50\n",
            "536/536 [==============================] - 2s 3ms/step - loss: 0.4034 - accuracy: 0.8468 - val_loss: 0.4721 - val_accuracy: 0.8372\n",
            "Epoch 21/50\n",
            "536/536 [==============================] - 2s 3ms/step - loss: 0.4158 - accuracy: 0.8505 - val_loss: 0.4473 - val_accuracy: 0.8448\n",
            "Epoch 22/50\n",
            "536/536 [==============================] - 2s 4ms/step - loss: 0.3895 - accuracy: 0.8533 - val_loss: 0.4405 - val_accuracy: 0.8455\n",
            "Epoch 23/50\n",
            "536/536 [==============================] - 2s 3ms/step - loss: 0.3743 - accuracy: 0.8559 - val_loss: 0.4243 - val_accuracy: 0.8489\n",
            "Epoch 24/50\n",
            "536/536 [==============================] - 2s 3ms/step - loss: 0.3780 - accuracy: 0.8565 - val_loss: 0.4366 - val_accuracy: 0.8519\n",
            "Epoch 25/50\n",
            "536/536 [==============================] - 2s 4ms/step - loss: 0.3692 - accuracy: 0.8572 - val_loss: 0.4139 - val_accuracy: 0.8501\n",
            "Epoch 26/50\n",
            "536/536 [==============================] - 2s 3ms/step - loss: 0.3664 - accuracy: 0.8584 - val_loss: 0.4358 - val_accuracy: 0.8516\n",
            "Epoch 27/50\n",
            "536/536 [==============================] - 2s 4ms/step - loss: 0.3671 - accuracy: 0.8580 - val_loss: 0.4334 - val_accuracy: 0.8508\n",
            "Epoch 28/50\n",
            "536/536 [==============================] - 2s 4ms/step - loss: 0.3671 - accuracy: 0.8569 - val_loss: 0.4250 - val_accuracy: 0.8542\n",
            "Epoch 29/50\n",
            "536/536 [==============================] - 2s 4ms/step - loss: 0.3651 - accuracy: 0.8578 - val_loss: 0.4269 - val_accuracy: 0.8535\n",
            "Epoch 30/50\n",
            "536/536 [==============================] - 2s 4ms/step - loss: 0.3643 - accuracy: 0.8569 - val_loss: 0.4264 - val_accuracy: 0.8535\n",
            "Epoch 31/50\n",
            "536/536 [==============================] - 2s 3ms/step - loss: 0.3587 - accuracy: 0.8563 - val_loss: 0.4381 - val_accuracy: 0.8546\n",
            "Epoch 32/50\n",
            "536/536 [==============================] - 2s 3ms/step - loss: 0.3587 - accuracy: 0.8580 - val_loss: 0.4218 - val_accuracy: 0.8546\n",
            "Epoch 33/50\n",
            "536/536 [==============================] - 2s 3ms/step - loss: 0.3607 - accuracy: 0.8572 - val_loss: 0.4215 - val_accuracy: 0.8550\n",
            "Epoch 34/50\n",
            "536/536 [==============================] - 2s 4ms/step - loss: 0.3485 - accuracy: 0.8580 - val_loss: 0.4318 - val_accuracy: 0.8569\n",
            "Epoch 35/50\n",
            "536/536 [==============================] - 2s 4ms/step - loss: 0.3515 - accuracy: 0.8569 - val_loss: 0.4231 - val_accuracy: 0.8554\n",
            "Epoch 36/50\n",
            "536/536 [==============================] - 2s 4ms/step - loss: 0.3508 - accuracy: 0.8604 - val_loss: 0.4360 - val_accuracy: 0.8569\n",
            "Epoch 37/50\n",
            "536/536 [==============================] - 2s 4ms/step - loss: 0.3541 - accuracy: 0.8593 - val_loss: 0.4259 - val_accuracy: 0.8519\n",
            "Epoch 38/50\n",
            "536/536 [==============================] - 2s 3ms/step - loss: 0.3553 - accuracy: 0.8582 - val_loss: 0.4192 - val_accuracy: 0.8512\n",
            "Epoch 39/50\n",
            "536/536 [==============================] - 2s 3ms/step - loss: 0.3474 - accuracy: 0.8606 - val_loss: 0.4268 - val_accuracy: 0.8561\n",
            "Epoch 40/50\n",
            "536/536 [==============================] - 2s 3ms/step - loss: 0.3510 - accuracy: 0.8602 - val_loss: 0.4277 - val_accuracy: 0.8580\n",
            "Epoch 41/50\n",
            "536/536 [==============================] - 2s 4ms/step - loss: 0.3524 - accuracy: 0.8563 - val_loss: 0.4399 - val_accuracy: 0.8531\n",
            "Epoch 42/50\n",
            "536/536 [==============================] - 3s 5ms/step - loss: 0.3414 - accuracy: 0.8625 - val_loss: 0.4386 - val_accuracy: 0.8557\n",
            "Epoch 43/50\n",
            "536/536 [==============================] - 2s 4ms/step - loss: 0.3450 - accuracy: 0.8597 - val_loss: 0.4310 - val_accuracy: 0.8519\n",
            "Epoch 44/50\n",
            "536/536 [==============================] - 2s 3ms/step - loss: 0.3486 - accuracy: 0.8630 - val_loss: 0.4373 - val_accuracy: 0.8531\n",
            "Epoch 45/50\n",
            "536/536 [==============================] - 2s 3ms/step - loss: 0.3433 - accuracy: 0.8627 - val_loss: 0.4203 - val_accuracy: 0.8527\n",
            "Epoch 46/50\n",
            "536/536 [==============================] - 2s 3ms/step - loss: 0.3450 - accuracy: 0.8615 - val_loss: 0.4261 - val_accuracy: 0.8573\n",
            "Epoch 47/50\n",
            "536/536 [==============================] - 2s 3ms/step - loss: 0.3509 - accuracy: 0.8636 - val_loss: 0.4344 - val_accuracy: 0.8561\n",
            "Epoch 48/50\n",
            "536/536 [==============================] - 2s 4ms/step - loss: 0.3476 - accuracy: 0.8627 - val_loss: 0.4331 - val_accuracy: 0.8576\n",
            "Epoch 49/50\n",
            "536/536 [==============================] - 2s 4ms/step - loss: 0.3510 - accuracy: 0.8621 - val_loss: 0.4232 - val_accuracy: 0.8523\n",
            "Epoch 50/50\n",
            "536/536 [==============================] - 2s 3ms/step - loss: 0.3494 - accuracy: 0.8621 - val_loss: 0.4320 - val_accuracy: 0.8557\n"
          ]
        }
      ]
    },
    {
      "cell_type": "code",
      "source": [
        "# list all data in history\n",
        "\n",
        "print(model_history.history.keys())"
      ],
      "metadata": {
        "colab": {
          "base_uri": "https://localhost:8080/"
        },
        "id": "Q9t_M4wICTTz",
        "outputId": "c42d679f-8706-4913-fd1e-7219ae5f3729"
      },
      "execution_count": null,
      "outputs": [
        {
          "output_type": "stream",
          "name": "stdout",
          "text": [
            "dict_keys(['loss', 'accuracy', 'val_loss', 'val_accuracy'])\n"
          ]
        }
      ]
    },
    {
      "cell_type": "code",
      "source": [
        "# summarize history for accuracy\n",
        "plt.plot(model_history.history['accuracy'])\n",
        "plt.plot(model_history.history['val_accuracy'])\n",
        "plt.title('model accuracy')\n",
        "plt.ylabel('accuracy')\n",
        "plt.xlabel('epoch')\n",
        "plt.legend(['train', 'test'], loc='upper left')\n",
        "plt.show()"
      ],
      "metadata": {
        "colab": {
          "base_uri": "https://localhost:8080/",
          "height": 472
        },
        "id": "Yva4tT_tJ39x",
        "outputId": "de3d19fe-7cd8-49d7-f500-1b2330a14bb2"
      },
      "execution_count": null,
      "outputs": [
        {
          "output_type": "display_data",
          "data": {
            "text/plain": [
              "<Figure size 640x480 with 1 Axes>"
            ],
            "image/png": "[encoded data removed]"
          },
          "metadata": {}
        }
      ]
    },
    {
      "cell_type": "code",
      "source": [
        "# summarize history for loss\n",
        "plt.plot(model_history.history['loss'])\n",
        "plt.plot(model_history.history['val_loss'])\n",
        "plt.title('model loss')\n",
        "plt.ylabel('loss')\n",
        "plt.xlabel('epoch')\n",
        "plt.legend(['train', 'test'], loc='upper left')\n",
        "plt.show()"
      ],
      "metadata": {
        "colab": {
          "base_uri": "https://localhost:8080/",
          "height": 472
        },
        "id": "Sc2PphPQJ8-9",
        "outputId": "172e5a61-0eb6-464d-a124-245c275e423c"
      },
      "execution_count": null,
      "outputs": [
        {
          "output_type": "display_data",
          "data": {
            "text/plain": [
              "<Figure size 640x480 with 1 Axes>"
            ],
            "image/png": "[encoded data removed]"
          },
          "metadata": {}
        }
      ]
    },
    {
      "cell_type": "code",
      "source": [
        "# Part 3 - Making the predictions and evaluating the model\n",
        "\n",
        "# Predicting the Test set results\n",
        "y_pred = classifier.predict(X_test)\n",
        "y_pred = (y_pred > 0.5)"
      ],
      "metadata": {
        "id": "OYqCIIkDCd8S",
        "colab": {
          "base_uri": "https://localhost:8080/"
        },
        "outputId": "9d4ce388-7631-4bbf-f9e5-7babbf6eb360"
      },
      "execution_count": null,
      "outputs": [
        {
          "output_type": "stream",
          "name": "stdout",
          "text": [
            "63/63 [==============================] - 0s 1ms/step\n"
          ]
        }
      ]
    },
    {
      "cell_type": "code",
      "source": [
        "# Making the Confusion Matrix\n",
        "from sklearn.metrics import confusion_matrix\n",
        "cm = confusion_matrix(y_test, y_pred)\n",
        "cm"
      ],
      "metadata": {
        "colab": {
          "base_uri": "https://localhost:8080/"
        },
        "id": "1bWLMrVyKJA4",
        "outputId": "f8d89b7f-9746-4e46-a9dd-125fd2e1cd6f"
      },
      "execution_count": null,
      "outputs": [
        {
          "output_type": "execute_result",
          "data": {
            "text/plain": [
              "array([[1520,   75],\n",
              "       [ 194,  211]])"
            ]
          },
          "metadata": {},
          "execution_count": 195
        }
      ]
    },
    {
      "cell_type": "code",
      "source": [
        "# Calculate the Accuracy\n",
        "from sklearn.metrics import accuracy_score\n",
        "score=accuracy_score(y_pred,y_test)"
      ],
      "metadata": {
        "id": "FgfRKzzOClmP"
      },
      "execution_count": null,
      "outputs": []
    },
    {
      "cell_type": "code",
      "source": [
        "score"
      ],
      "metadata": {
        "colab": {
          "base_uri": "https://localhost:8080/"
        },
        "id": "a_C5EETrCpSj",
        "outputId": "175a8437-1cb0-4d34-d547-db9e03d1baef"
      },
      "execution_count": null,
      "outputs": [
        {
          "output_type": "execute_result",
          "data": {
            "text/plain": [
              "0.8655"
            ]
          },
          "metadata": {},
          "execution_count": 197
        }
      ]
    }
  ]
}