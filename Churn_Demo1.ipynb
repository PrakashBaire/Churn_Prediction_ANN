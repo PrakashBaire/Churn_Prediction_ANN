{
  "nbformat": 4,
  "nbformat_minor": 0,
  "metadata": {
    "colab": {
      "provenance": [],
      "include_colab_link": true
    },
    "kernelspec": {
      "name": "python3",
      "display_name": "Python 3"
    },
    "language_info": {
      "name": "python"
    }
  },
  "cells": [
    {
      "cell_type": "markdown",
      "metadata": {
        "id": "view-in-github",
        "colab_type": "text"
      },
      "source": [
        "<a href=\"https://colab.research.google.com/github/PrakashBaire/Churn_Prediction_ANN/blob/main/Churn_Demo1.ipynb\" target=\"_parent\"><img src=\"https://colab.research.google.com/assets/colab-badge.svg\" alt=\"Open In Colab\"/></a>"
      ]
    },
    {
      "cell_type": "code",
      "source": [
        "import tensorflow as tf"
      ],
      "metadata": {
        "id": "D2IliGyI62B0"
      },
      "execution_count": 141,
      "outputs": []
    },
    {
      "cell_type": "code",
      "source": [
        "print(tf.__version__)"
      ],
      "metadata": {
        "colab": {
          "base_uri": "https://localhost:8080/"
        },
        "id": "4_fyxUHb7GuH",
        "outputId": "53f66bcd-fa11-4d15-e5c4-7d1fc36a01cb"
      },
      "execution_count": 142,
      "outputs": [
        {
          "output_type": "stream",
          "name": "stdout",
          "text": [
            "2.12.0\n"
          ]
        }
      ]
    },
    {
      "cell_type": "code",
      "source": [
        "# Importing the libraries\n",
        "import numpy as np\n",
        "import matplotlib.pyplot as plt\n",
        "import pandas as pd"
      ],
      "metadata": {
        "id": "LLvV2K-o7KAp"
      },
      "execution_count": 143,
      "outputs": []
    },
    {
      "cell_type": "code",
      "source": [
        "# Importing the dataset\n",
        "dataset = pd.read_csv('Churn_Modelling.csv')\n",
        "X = dataset.iloc[:, 3:-1].values\n",
        "y = dataset.iloc[:, -1].values"
      ],
      "metadata": {
        "id": "gHRHobkK7Sxn"
      },
      "execution_count": 144,
      "outputs": []
    },
    {
      "cell_type": "code",
      "source": [
        "print(X)"
      ],
      "metadata": {
        "colab": {
          "base_uri": "https://localhost:8080/"
        },
        "id": "rUsIYN4f8UrT",
        "outputId": "1712a82a-6adc-46a0-bb69-40e54a37c6e5"
      },
      "execution_count": 145,
      "outputs": [
        {
          "output_type": "stream",
          "name": "stdout",
          "text": [
            "[[619 'France' 'Female' ... 1 1 101348.88]\n",
            " [608 'Spain' 'Female' ... 0 1 112542.58]\n",
            " [502 'France' 'Female' ... 1 0 113931.57]\n",
            " ...\n",
            " [709 'France' 'Female' ... 0 1 42085.58]\n",
            " [772 'Germany' 'Male' ... 1 0 92888.52]\n",
            " [792 'France' 'Female' ... 1 0 38190.78]]\n"
          ]
        }
      ]
    },
    {
      "cell_type": "code",
      "source": [
        "print(y)"
      ],
      "metadata": {
        "colab": {
          "base_uri": "https://localhost:8080/"
        },
        "id": "4aZy73HO8W18",
        "outputId": "4aa09185-c5b1-494d-b189-05563b3afb74"
      },
      "execution_count": 146,
      "outputs": [
        {
          "output_type": "stream",
          "name": "stdout",
          "text": [
            "[1 0 1 ... 1 1 0]\n"
          ]
        }
      ]
    },
    {
      "cell_type": "code",
      "source": [
        "#Feature Engineering\n",
        "#from sklearn.feature_selection import StandardScaler\n",
        "#sc = StandardScaler()\n",
        "from sklearn.compose import ColumnTransformer\n",
        "from sklearn.preprocessing import OneHotEncoder\n",
        "ct = ColumnTransformer(transformers=[('encoder', OneHotEncoder(), [1, 2])], remainder='passthrough')\n",
        "X = np.array(ct.fit_transform(X))"
      ],
      "metadata": {
        "id": "19o68BVM8wFz"
      },
      "execution_count": 147,
      "outputs": []
    },
    {
      "cell_type": "code",
      "source": [
        "print(X)"
      ],
      "metadata": {
        "colab": {
          "base_uri": "https://localhost:8080/"
        },
        "id": "BNU88QH1EDTe",
        "outputId": "3648fab2-5699-4430-a143-da38bbdcf643"
      },
      "execution_count": 148,
      "outputs": [
        {
          "output_type": "stream",
          "name": "stdout",
          "text": [
            "[[1.0 0.0 0.0 ... 1 1 101348.88]\n",
            " [0.0 0.0 1.0 ... 0 1 112542.58]\n",
            " [1.0 0.0 0.0 ... 1 0 113931.57]\n",
            " ...\n",
            " [1.0 0.0 0.0 ... 0 1 42085.58]\n",
            " [0.0 1.0 0.0 ... 1 0 92888.52]\n",
            " [1.0 0.0 0.0 ... 1 0 38190.78]]\n"
          ]
        }
      ]
    },
    {
      "cell_type": "code",
      "source": [
        "#Create dummy variables\n",
        "#geography=pd.get_dummies(X[\"Geography\"],drop_first=True)\n",
        "#gender=pd.get_dummies(X['Gender'],drop_first=True)"
      ],
      "metadata": {
        "id": "T2yS0VL67Ufn"
      },
      "execution_count": 149,
      "outputs": []
    },
    {
      "cell_type": "code",
      "source": [
        "## Concatenate the Data Frames\n",
        "\n",
        "#X=pd.concat([X,geography,gender],axis=1)\n",
        "\n",
        "## Drop Unnecessary columns\n",
        "#X=X.drop(['Geography','Gender'],axis=1)\n",
        "\n",
        "# Splitting the dataset into the Training set and Test set\n",
        "from sklearn.model_selection import train_test_split\n",
        "X_train, X_test, y_train, y_test = train_test_split(X, y, test_size = 0.2, random_state = 0)\n"
      ],
      "metadata": {
        "id": "Co2rxaFR7Wgo"
      },
      "execution_count": 150,
      "outputs": []
    },
    {
      "cell_type": "code",
      "source": [
        "# Feature Scaling\n",
        "from sklearn.preprocessing import StandardScaler\n",
        "sc = StandardScaler()\n",
        "X_train = sc.fit_transform(X_train)\n",
        "X_test = sc.transform(X_test)\n"
      ],
      "metadata": {
        "id": "GNZrZXy37ZLs"
      },
      "execution_count": 151,
      "outputs": []
    },
    {
      "cell_type": "code",
      "source": [
        "# Part 2 - Now let's make the ANN!"
      ],
      "metadata": {
        "id": "uwN3bgie7bvT"
      },
      "execution_count": 152,
      "outputs": []
    },
    {
      "cell_type": "code",
      "source": [
        "from tensorflow.keras.models import Sequential\n",
        "from tensorflow.keras.layers import Dense\n",
        "from tensorflow.keras.layers import LeakyReLU,PReLU,ELU\n",
        "from tensorflow.keras.layers import Dropout\n"
      ],
      "metadata": {
        "id": "rL_a7vWu7dj1"
      },
      "execution_count": 153,
      "outputs": []
    },
    {
      "cell_type": "code",
      "source": [
        "# Initialising the ANN\n",
        "classifier = Sequential()"
      ],
      "metadata": {
        "id": "VDJwvrbZ7kj4"
      },
      "execution_count": 154,
      "outputs": []
    },
    {
      "cell_type": "code",
      "source": [
        "# Adding the input layer\n",
        "classifier.add(Dense(units=11,activation='relu'))"
      ],
      "metadata": {
        "id": "RSZQrU-g7z4N"
      },
      "execution_count": 155,
      "outputs": []
    },
    {
      "cell_type": "code",
      "source": [
        "# Adding the first hidden layer\n",
        "classifier.add(Dense(units=7,activation='relu'))\n",
        "classifier.add(Dropout(0.2))"
      ],
      "metadata": {
        "id": "byszZMvw8RcQ"
      },
      "execution_count": 156,
      "outputs": []
    },
    {
      "cell_type": "code",
      "source": [
        "# Adding the Second hidden layer\n",
        "classifier.add(Dense(units=6,activation='relu'))\n",
        "classifier.add(Dropout(0.3))"
      ],
      "metadata": {
        "id": "TaKXvqcrWoR7"
      },
      "execution_count": 157,
      "outputs": []
    },
    {
      "cell_type": "code",
      "source": [
        "# Adding the Outout layer\n",
        "classifier.add(Dense(units=1,activation='sigmoid'))"
      ],
      "metadata": {
        "id": "Mk2slmAX8XUI"
      },
      "execution_count": 158,
      "outputs": []
    },
    {
      "cell_type": "code",
      "source": [
        "opt = tf.keras.optimizers.Adam(learning_rate = 0.01)"
      ],
      "metadata": {
        "id": "dy_ls7m-Y1Gb"
      },
      "execution_count": 159,
      "outputs": []
    },
    {
      "cell_type": "code",
      "source": [
        "classifier.compile(optimizer= opt, loss='binary_crossentropy', metrics=['accuracy'])"
      ],
      "metadata": {
        "id": "F2udThHo8cFt"
      },
      "execution_count": 160,
      "outputs": []
    },
    {
      "cell_type": "code",
      "source": [
        "Early_Stopping = tf.keras.callbacks.EarlyStopping(\n",
        "    monitor=\"val_loss\",\n",
        "    min_delta=0.001,\n",
        "    patience=20,\n",
        "    verbose=1,\n",
        "    mode=\"auto\",\n",
        "    baseline=None,\n",
        "    restore_best_weights=False,\n",
        "    start_from_epoch=0,\n",
        ")"
      ],
      "metadata": {
        "id": "4osL140udFsl"
      },
      "execution_count": 161,
      "outputs": []
    },
    {
      "cell_type": "code",
      "source": [
        "model_history=classifier.fit(X_train,y_train,validation_split=0.33,batch_size=10,epochs=500, callbacks= Early_Stopping)"
      ],
      "metadata": {
        "colab": {
          "base_uri": "https://localhost:8080/"
        },
        "id": "3qairJAs8fIc",
        "outputId": "a66f98a0-a192-4d8c-b69a-8ffa5bcbb01c"
      },
      "execution_count": 162,
      "outputs": [
        {
          "output_type": "stream",
          "name": "stdout",
          "text": [
            "Epoch 1/500\n",
            "536/536 [==============================] - 3s 3ms/step - loss: 0.4715 - accuracy: 0.7942 - val_loss: 0.4336 - val_accuracy: 0.7955\n",
            "Epoch 2/500\n",
            "536/536 [==============================] - 2s 3ms/step - loss: 0.4128 - accuracy: 0.8257 - val_loss: 0.3895 - val_accuracy: 0.8395\n",
            "Epoch 3/500\n",
            "536/536 [==============================] - 2s 3ms/step - loss: 0.3970 - accuracy: 0.8296 - val_loss: 0.3734 - val_accuracy: 0.8482\n",
            "Epoch 4/500\n",
            "536/536 [==============================] - 2s 4ms/step - loss: 0.3903 - accuracy: 0.8349 - val_loss: 0.3673 - val_accuracy: 0.8474\n",
            "Epoch 5/500\n",
            "536/536 [==============================] - 1s 3ms/step - loss: 0.3783 - accuracy: 0.8416 - val_loss: 0.3753 - val_accuracy: 0.8383\n",
            "Epoch 6/500\n",
            "536/536 [==============================] - 3s 5ms/step - loss: 0.3825 - accuracy: 0.8369 - val_loss: 0.3743 - val_accuracy: 0.8455\n",
            "Epoch 7/500\n",
            "536/536 [==============================] - 3s 5ms/step - loss: 0.3762 - accuracy: 0.8390 - val_loss: 0.3751 - val_accuracy: 0.8455\n",
            "Epoch 8/500\n",
            "536/536 [==============================] - 2s 3ms/step - loss: 0.3789 - accuracy: 0.8406 - val_loss: 0.3612 - val_accuracy: 0.8432\n",
            "Epoch 9/500\n",
            "536/536 [==============================] - 2s 3ms/step - loss: 0.3695 - accuracy: 0.8474 - val_loss: 0.3650 - val_accuracy: 0.8546\n",
            "Epoch 10/500\n",
            "536/536 [==============================] - 2s 4ms/step - loss: 0.3722 - accuracy: 0.8446 - val_loss: 0.3600 - val_accuracy: 0.8527\n",
            "Epoch 11/500\n",
            "536/536 [==============================] - 1s 3ms/step - loss: 0.3729 - accuracy: 0.8429 - val_loss: 0.3597 - val_accuracy: 0.8512\n",
            "Epoch 12/500\n",
            "536/536 [==============================] - 2s 3ms/step - loss: 0.3703 - accuracy: 0.8457 - val_loss: 0.3680 - val_accuracy: 0.8432\n",
            "Epoch 13/500\n",
            "536/536 [==============================] - 2s 3ms/step - loss: 0.3673 - accuracy: 0.8483 - val_loss: 0.3695 - val_accuracy: 0.8542\n",
            "Epoch 14/500\n",
            "536/536 [==============================] - 2s 3ms/step - loss: 0.3706 - accuracy: 0.8444 - val_loss: 0.3633 - val_accuracy: 0.8527\n",
            "Epoch 15/500\n",
            "536/536 [==============================] - 1s 3ms/step - loss: 0.3628 - accuracy: 0.8528 - val_loss: 0.3598 - val_accuracy: 0.8489\n",
            "Epoch 16/500\n",
            "536/536 [==============================] - 2s 3ms/step - loss: 0.3667 - accuracy: 0.8474 - val_loss: 0.3563 - val_accuracy: 0.8535\n",
            "Epoch 17/500\n",
            "536/536 [==============================] - 2s 4ms/step - loss: 0.3673 - accuracy: 0.8434 - val_loss: 0.3655 - val_accuracy: 0.8508\n",
            "Epoch 18/500\n",
            "536/536 [==============================] - 2s 4ms/step - loss: 0.3720 - accuracy: 0.8436 - val_loss: 0.3579 - val_accuracy: 0.8478\n",
            "Epoch 19/500\n",
            "536/536 [==============================] - 2s 3ms/step - loss: 0.3684 - accuracy: 0.8461 - val_loss: 0.3622 - val_accuracy: 0.8531\n",
            "Epoch 20/500\n",
            "536/536 [==============================] - 1s 3ms/step - loss: 0.3612 - accuracy: 0.8498 - val_loss: 0.3652 - val_accuracy: 0.8470\n",
            "Epoch 21/500\n",
            "536/536 [==============================] - 1s 3ms/step - loss: 0.3676 - accuracy: 0.8474 - val_loss: 0.3589 - val_accuracy: 0.8531\n",
            "Epoch 22/500\n",
            "536/536 [==============================] - 1s 3ms/step - loss: 0.3617 - accuracy: 0.8477 - val_loss: 0.3609 - val_accuracy: 0.8531\n",
            "Epoch 23/500\n",
            "536/536 [==============================] - 2s 3ms/step - loss: 0.3632 - accuracy: 0.8483 - val_loss: 0.3590 - val_accuracy: 0.8504\n",
            "Epoch 24/500\n",
            "536/536 [==============================] - 1s 3ms/step - loss: 0.3589 - accuracy: 0.8520 - val_loss: 0.3734 - val_accuracy: 0.8482\n",
            "Epoch 25/500\n",
            "536/536 [==============================] - 2s 4ms/step - loss: 0.3624 - accuracy: 0.8449 - val_loss: 0.3910 - val_accuracy: 0.8451\n",
            "Epoch 26/500\n",
            "536/536 [==============================] - 2s 3ms/step - loss: 0.3660 - accuracy: 0.8462 - val_loss: 0.3606 - val_accuracy: 0.8482\n",
            "Epoch 27/500\n",
            "536/536 [==============================] - 2s 3ms/step - loss: 0.3645 - accuracy: 0.8461 - val_loss: 0.3580 - val_accuracy: 0.8519\n",
            "Epoch 28/500\n",
            "536/536 [==============================] - 2s 3ms/step - loss: 0.3578 - accuracy: 0.8485 - val_loss: 0.3599 - val_accuracy: 0.8523\n",
            "Epoch 29/500\n",
            "536/536 [==============================] - 2s 3ms/step - loss: 0.3634 - accuracy: 0.8461 - val_loss: 0.3585 - val_accuracy: 0.8554\n",
            "Epoch 30/500\n",
            "536/536 [==============================] - 1s 3ms/step - loss: 0.3620 - accuracy: 0.8487 - val_loss: 0.3615 - val_accuracy: 0.8519\n",
            "Epoch 31/500\n",
            "536/536 [==============================] - 2s 3ms/step - loss: 0.3594 - accuracy: 0.8503 - val_loss: 0.3618 - val_accuracy: 0.8527\n",
            "Epoch 32/500\n",
            "536/536 [==============================] - 2s 4ms/step - loss: 0.3585 - accuracy: 0.8520 - val_loss: 0.3661 - val_accuracy: 0.8470\n",
            "Epoch 33/500\n",
            "536/536 [==============================] - 2s 3ms/step - loss: 0.3634 - accuracy: 0.8451 - val_loss: 0.3607 - val_accuracy: 0.8512\n",
            "Epoch 34/500\n",
            "536/536 [==============================] - 1s 3ms/step - loss: 0.3595 - accuracy: 0.8511 - val_loss: 0.3644 - val_accuracy: 0.8478\n",
            "Epoch 35/500\n",
            "536/536 [==============================] - 1s 3ms/step - loss: 0.3641 - accuracy: 0.8487 - val_loss: 0.3600 - val_accuracy: 0.8561\n",
            "Epoch 36/500\n",
            "536/536 [==============================] - 1s 3ms/step - loss: 0.3585 - accuracy: 0.8526 - val_loss: 0.3582 - val_accuracy: 0.8485\n",
            "Epoch 36: early stopping\n"
          ]
        }
      ]
    },
    {
      "cell_type": "code",
      "source": [
        "# list all data in history\n",
        "\n",
        "print(model_history.history.keys())"
      ],
      "metadata": {
        "colab": {
          "base_uri": "https://localhost:8080/"
        },
        "id": "Q9t_M4wICTTz",
        "outputId": "31ea2589-c999-4b51-d1f0-c72fd5892225"
      },
      "execution_count": 163,
      "outputs": [
        {
          "output_type": "stream",
          "name": "stdout",
          "text": [
            "dict_keys(['loss', 'accuracy', 'val_loss', 'val_accuracy'])\n"
          ]
        }
      ]
    },
    {
      "cell_type": "code",
      "source": [
        "# summarize history for accuracy\n",
        "plt.plot(model_history.history['accuracy'])\n",
        "plt.plot(model_history.history['val_accuracy'])\n",
        "plt.title('model accuracy')\n",
        "plt.ylabel('accuracy')\n",
        "plt.xlabel('epoch')\n",
        "plt.legend(['train', 'test'], loc='upper left')\n",
        "plt.show()"
      ],
      "metadata": {
        "colab": {
          "base_uri": "https://localhost:8080/",
          "height": 472
        },
        "id": "Yva4tT_tJ39x",
        "outputId": "671e5bd3-777e-49ad-b63f-83380fd28d21"
      },
      "execution_count": 164,
      "outputs": [
        {
          "output_type": "display_data",
          "data": {
            "text/plain": [
              "<Figure size 640x480 with 1 Axes>"
            ],
            "image/png": "[encoded data removed]"
          },
          "metadata": {}
        }
      ]
    },
    {
      "cell_type": "code",
      "source": [
        "# summarize history for loss\n",
        "plt.plot(model_history.history['loss'])\n",
        "plt.plot(model_history.history['val_loss'])\n",
        "plt.title('model loss')\n",
        "plt.ylabel('loss')\n",
        "plt.xlabel('epoch')\n",
        "plt.legend(['train', 'test'], loc='upper left')\n",
        "plt.show()"
      ],
      "metadata": {
        "colab": {
          "base_uri": "https://localhost:8080/",
          "height": 472
        },
        "id": "Sc2PphPQJ8-9",
        "outputId": "2feb557a-5203-437e-a843-ef67585b438b"
      },
      "execution_count": 165,
      "outputs": [
        {
          "output_type": "display_data",
          "data": {
            "text/plain": [
              "<Figure size 640x480 with 1 Axes>"
            ],
            "image/png": "[encoded data removed]"
          },
          "metadata": {}
        }
      ]
    },
    {
      "cell_type": "code",
      "source": [
        "# Part 3 - Making the predictions and evaluating the model\n",
        "\n",
        "# Predicting the Test set results\n",
        "y_pred = classifier.predict(X_test)\n",
        "y_pred = (y_pred > 0.5)"
      ],
      "metadata": {
        "id": "OYqCIIkDCd8S",
        "colab": {
          "base_uri": "https://localhost:8080/"
        },
        "outputId": "00381ea7-aea1-42f7-d55c-d1b2f8aaa908"
      },
      "execution_count": 166,
      "outputs": [
        {
          "output_type": "stream",
          "name": "stdout",
          "text": [
            "63/63 [==============================] - 0s 1ms/step\n"
          ]
        }
      ]
    },
    {
      "cell_type": "code",
      "source": [
        "# Making the Confusion Matrix\n",
        "from sklearn.metrics import confusion_matrix\n",
        "cm = confusion_matrix(y_test, y_pred)\n",
        "cm"
      ],
      "metadata": {
        "colab": {
          "base_uri": "https://localhost:8080/"
        },
        "id": "1bWLMrVyKJA4",
        "outputId": "34b46869-428d-4f18-f92f-d244962d422c"
      },
      "execution_count": 167,
      "outputs": [
        {
          "output_type": "execute_result",
          "data": {
            "text/plain": [
              "array([[1556,   39],\n",
              "       [ 227,  178]])"
            ]
          },
          "metadata": {},
          "execution_count": 167
        }
      ]
    },
    {
      "cell_type": "code",
      "source": [
        "# Calculate the Accuracy\n",
        "from sklearn.metrics import accuracy_score\n",
        "score=accuracy_score(y_pred,y_test)"
      ],
      "metadata": {
        "id": "FgfRKzzOClmP"
      },
      "execution_count": 168,
      "outputs": []
    },
    {
      "cell_type": "code",
      "source": [
        "score"
      ],
      "metadata": {
        "colab": {
          "base_uri": "https://localhost:8080/"
        },
        "id": "a_C5EETrCpSj",
        "outputId": "2b1e2ba9-4154-4926-82e6-1ca50260a3f7"
      },
      "execution_count": 169,
      "outputs": [
        {
          "output_type": "execute_result",
          "data": {
            "text/plain": [
              "0.867"
            ]
          },
          "metadata": {},
          "execution_count": 169
        }
      ]
    }
  ]
}